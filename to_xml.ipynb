{
 "cells": [
  {
   "cell_type": "code",
   "execution_count": 1,
   "id": "d26126c2",
   "metadata": {},
   "outputs": [],
   "source": [
    "from yattag import Doc, indent\n",
    "import json\n",
    "from collections import defaultdict\n",
    "import re"
   ]
  },
  {
   "cell_type": "code",
   "execution_count": 2,
   "id": "76c2007c",
   "metadata": {},
   "outputs": [],
   "source": [
    "with open('final_corpus.json', 'r', encoding='utf-8') as f:\n",
    "    dct = json.load(f)"
   ]
  },
  {
   "cell_type": "code",
   "execution_count": 3,
   "id": "3d71aae4",
   "metadata": {},
   "outputs": [],
   "source": [
    "tokens_count = defaultdict(lambda: 0)\n",
    "def addup_tokens(sent, country):\n",
    "    tokens_count[country] += len(re.findall(r'[\\w][\\w\\-]*', sent))"
   ]
  },
  {
   "cell_type": "code",
   "execution_count": 5,
   "id": "312e8b56",
   "metadata": {},
   "outputs": [],
   "source": [
    "for key, val in dct.items():\n",
    "    doc, tag, text, line = Doc().ttl()\n",
    "    \n",
    "    with tag('html'):\n",
    "        # metainfo\n",
    "        with tag('head'):\n",
    "            line('se', val['title_ru'], lang='ru', variant_id='0')\n",
    "            line('se', val['title_es'], lang='es', variant_id='1')\n",
    "        with tag('date'):\n",
    "            line('se', val['date_ru'], lang='ru', variant_id='0')\n",
    "            line('se', val['date_es'], lang='es', variant_id='1')\n",
    "        with tag('source'):\n",
    "            line('se', val['source_ru'], lang='ru', variant_id='0')\n",
    "            line('se', val['source_es'], lang='es', variant_id='1')\n",
    "        line('country', val['Country'])\n",
    "#         with tag('texts_full'):\n",
    "#             line('se', val['text_ru'], lang='ru', variant_id='0')\n",
    "#             line('se', val['text_es'], lang='es', variant_id='1')\n",
    "            \n",
    "        # texts\n",
    "        with tag('body'):\n",
    "            for id_, ru_es in val['sentences'].items():\n",
    "                with tag('para', id=id_.lstrip('sentence')):\n",
    "                    line('se', ru_es['ru'], lang='ru', variant_id='0')\n",
    "                    line('se', ru_es['es'], lang='es', variant_id='1')\n",
    "                    addup_tokens(ru_es['ru'], val['Country'])\n",
    "        \n",
    "    \n",
    "    with open('xmls/' + key + '.xml', 'w', encoding='utf-8') as f:\n",
    "        f.write(indent(doc.getvalue()))"
   ]
  },
  {
   "cell_type": "code",
   "execution_count": 6,
   "id": "cc906242",
   "metadata": {},
   "outputs": [
    {
     "data": {
      "text/plain": [
       "defaultdict(<function __main__.<lambda>()>,\n",
       "            {'Argentina': 34755,\n",
       "             'Uruguay': 29843,\n",
       "             'Ecuador': 8984,\n",
       "             'Mexico': 26702,\n",
       "             'Cuba': 19856,\n",
       "             'Peru': 12980})"
      ]
     },
     "execution_count": 6,
     "metadata": {},
     "output_type": "execute_result"
    }
   ],
   "source": [
    "tokens_count"
   ]
  },
  {
   "cell_type": "code",
   "execution_count": null,
   "id": "8767a13c",
   "metadata": {},
   "outputs": [],
   "source": []
  }
 ],
 "metadata": {
  "kernelspec": {
   "display_name": "Python 3 (ipykernel)",
   "language": "python",
   "name": "python3"
  },
  "language_info": {
   "codemirror_mode": {
    "name": "ipython",
    "version": 3
   },
   "file_extension": ".py",
   "mimetype": "text/x-python",
   "name": "python",
   "nbconvert_exporter": "python",
   "pygments_lexer": "ipython3",
   "version": "3.11.5"
  }
 },
 "nbformat": 4,
 "nbformat_minor": 5
}
