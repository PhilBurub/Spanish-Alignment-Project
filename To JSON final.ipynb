{
 "cells": [
  {
   "cell_type": "code",
   "execution_count": 1,
   "id": "b156766c",
   "metadata": {},
   "outputs": [],
   "source": [
    "import pandas as pd\n",
    "import os\n",
    "import json"
   ]
  },
  {
   "cell_type": "code",
   "execution_count": 2,
   "id": "cb0a68c8",
   "metadata": {},
   "outputs": [],
   "source": [
    "with open('final.json', 'r', encoding='utf-8') as f:\n",
    "    metainfo = json.load(f)"
   ]
  },
  {
   "cell_type": "code",
   "execution_count": 3,
   "id": "6e27eb71",
   "metadata": {},
   "outputs": [],
   "source": [
    "new_dct = {}"
   ]
  },
  {
   "cell_type": "code",
   "execution_count": 4,
   "id": "d3b48538",
   "metadata": {},
   "outputs": [],
   "source": [
    "def appenddct(path):\n",
    "    table = pd.read_excel(path, index_col=0)\n",
    "    for i, row in table.iterrows():\n",
    "        if i == 'id':\n",
    "            article = row.ru\n",
    "            sentences = {}\n",
    "        elif i == 'text':\n",
    "            continue\n",
    "        elif i == '--':\n",
    "            dct = metainfo.get(article)\n",
    "            dct['sentences'] = sentences\n",
    "            new_dct[article] = dct\n",
    "        else:\n",
    "            dct = {'ru': row.ru.replace('\\n', ' '), 'es': row.es.replace('\\n', ' ')}\n",
    "            sentences[f'sentence{len(sentences)}'] = dct"
   ]
  },
  {
   "cell_type": "code",
   "execution_count": 5,
   "id": "081990cd",
   "metadata": {},
   "outputs": [
    {
     "name": "stdout",
     "output_type": "stream",
     "text": [
      "Влада.xlsx 204\n",
      "Лиза.xlsx 119\n",
      "Саша проверенный.xlsx 202\n",
      "Сеня.xlsx 196\n",
      "Филя.xlsx 119\n"
     ]
    }
   ],
   "source": [
    "dir_ = './completed'\n",
    "for file in os.listdir(dir_):\n",
    "    if file.endswith('.xlsx'):\n",
    "        prev = len(new_dct)\n",
    "        appenddct(dir_ + '/' + file)\n",
    "        print(file, len(new_dct)-prev)"
   ]
  },
  {
   "cell_type": "code",
   "execution_count": 6,
   "id": "fae06530",
   "metadata": {},
   "outputs": [
    {
     "data": {
      "text/plain": [
       "840"
      ]
     },
     "execution_count": 6,
     "metadata": {},
     "output_type": "execute_result"
    }
   ],
   "source": [
    "len(new_dct)"
   ]
  },
  {
   "cell_type": "code",
   "execution_count": 7,
   "id": "ed02caac",
   "metadata": {},
   "outputs": [],
   "source": [
    "with open('final_corpus.json', 'w', encoding='utf-8') as f:\n",
    "    json.dump(new_dct, f, ensure_ascii=False, indent='\\t')"
   ]
  },
  {
   "cell_type": "code",
   "execution_count": null,
   "id": "c562b3d8",
   "metadata": {},
   "outputs": [],
   "source": []
  }
 ],
 "metadata": {
  "kernelspec": {
   "display_name": "Python 3 (ipykernel)",
   "language": "python",
   "name": "python3"
  },
  "language_info": {
   "codemirror_mode": {
    "name": "ipython",
    "version": 3
   },
   "file_extension": ".py",
   "mimetype": "text/x-python",
   "name": "python",
   "nbconvert_exporter": "python",
   "pygments_lexer": "ipython3",
   "version": "3.11.5"
  }
 },
 "nbformat": 4,
 "nbformat_minor": 5
}
