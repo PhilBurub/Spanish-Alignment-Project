{
 "cells": [
  {
   "cell_type": "code",
   "execution_count": 21,
   "id": "23d96dc0",
   "metadata": {},
   "outputs": [],
   "source": [
    "import json\n",
    "import pandas as pd\n",
    "from copy import deepcopy"
   ]
  },
  {
   "cell_type": "code",
   "execution_count": 22,
   "id": "67e32caa",
   "metadata": {},
   "outputs": [],
   "source": [
    "with open('final.json', 'r', encoding='utf-8') as f:\n",
    "    dct = json.load(f)"
   ]
  },
  {
   "cell_type": "code",
   "execution_count": 23,
   "id": "4763c010",
   "metadata": {},
   "outputs": [],
   "source": [
    "tables = {}\n",
    "cur = pd.DataFrame()\n",
    "for i, (id_text, dct_text) in enumerate(dct.items()):\n",
    "    cur = pd.concat((cur,\n",
    "                    pd.DataFrame({'es': {'id': id_text, 'text': dct_text['text_es']}, \n",
    "                                  'ru': {'id': id_text, 'text': dct_text['text_ru']}})))\n",
    "    for id_sent, sent in dct_text['sentences'].items():\n",
    "        cur = pd.concat((cur,\n",
    "                        pd.DataFrame({'es': {id_sent: sent['es']}, \n",
    "                                      'ru': {id_sent: sent['ru']}})))\n",
    "    cur = pd.concat((cur,\n",
    "                    pd.DataFrame({'es': {'--': '--'}, \n",
    "                                  'ru': {'--': '--'}})))\n",
    "    if i == 219:\n",
    "        tables['Сеня'] = deepcopy(cur)\n",
    "        cur = pd.DataFrame()\n",
    "    if i == 439:\n",
    "        tables['Саша'] = deepcopy(cur)\n",
    "        cur = pd.DataFrame()\n",
    "    if i == 659:\n",
    "        tables['Влада'] = deepcopy(cur)\n",
    "        cur = pd.DataFrame()\n",
    "    if i == 779:\n",
    "        tables['Лиза'] = deepcopy(cur)\n",
    "        cur = pd.DataFrame()\n",
    "    if i == 899:\n",
    "        tables['Филя'] = deepcopy(cur)\n",
    "        cur = pd.DataFrame()"
   ]
  },
  {
   "cell_type": "code",
   "execution_count": 27,
   "id": "ade6ed61",
   "metadata": {},
   "outputs": [],
   "source": [
    "for name, table in tables.items():\n",
    "    wt = pd.ExcelWriter(f'задания/{name}.xlsx')\n",
    "    table.to_excel(wt, sheet_name='Sentences')\n",
    "    wt.close()"
   ]
  },
  {
   "cell_type": "code",
   "execution_count": null,
   "id": "3930dac6",
   "metadata": {},
   "outputs": [],
   "source": []
  }
 ],
 "metadata": {
  "kernelspec": {
   "display_name": "Python 3 (ipykernel)",
   "language": "python",
   "name": "python3"
  },
  "language_info": {
   "codemirror_mode": {
    "name": "ipython",
    "version": 3
   },
   "file_extension": ".py",
   "mimetype": "text/x-python",
   "name": "python",
   "nbconvert_exporter": "python",
   "pygments_lexer": "ipython3",
   "version": "3.11.5"
  }
 },
 "nbformat": 4,
 "nbformat_minor": 5
}
